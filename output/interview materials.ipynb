{
 "cells": [
  {
   "cell_type": "code",
   "execution_count": null,
   "metadata": {
    "collapsed": true
   },
   "outputs": [],
   "source": [
    "import pandas as pd\n",
    "import numpy as np\n",
    "import re\n",
    "import matplotlib.pyplot as plt\n",
    "import xml.etree.ElementTree as ET\n",
    "plt.style.use('ggplot')\n",
    "survey2016 = pd.read_csv('Survey Data/2016 Stack Overflow Survey Responses.csv')"
   ]
  },
  {
   "cell_type": "markdown",
   "metadata": {},
   "source": [
    "# Does stackoverflow lower wages?\n",
    "\n",
    "## Outline\n",
    "\n",
    "* Exponential growth of stack overflow\n",
    "* Initial look at wages and information availability\n",
    "* Survey's own education data\n",
    "* Second look at wages, controlling for geography\n",
    "* A simple regression\n",
    "\n",
    "## To be continued...\n",
    "* country map of stackoverflow growth\n",
    "* Can we specify a causal regression using time series data?\n",
    "* Other fields in the survey and stack overflow data dump\n",
    "* deeper exploration of stack overflow posts: what does the number of posts indicate about the quality of information?\n",
    "* deeper exploration of stack overflow posts: other indicators for quality?\n",
    "* scraping developer profiles on stackoverflow\n",
    "* data on MOOCs\n"
   ]
  },
  {
   "cell_type": "markdown",
   "metadata": {},
   "source": [
    "### Graph 1, growth of Cross Validated\n",
    "\n",
    "How is this trend increasing over time? Is it an important economic force?"
   ]
  },
  {
   "cell_type": "code",
   "execution_count": null,
   "metadata": {},
   "outputs": [],
   "source": [
    "## Create a timeseries graph of users and posts over time on Cross Validated\n",
    "dusers = pd.read_csv(\"stats.stackexchange.com/Users.csv\")\n",
    "dposts = pd.read_csv(\"stats.stackexchange.com/Posts.csv\")\n",
    "\n",
    "dposts['CreationDate'] = pd.to_datetime(dposts['CreationDate'], format='%Y-%m-%dT%H:%M:%S.%f')\n",
    "dposts['Date'] = dposts.CreationDate.dt.date\n",
    "\n",
    "dusers.CreationDate = pd.to_datetime(dusers['CreationDate'], format='%Y-%m-%dT%H:%M:%S.%f')\n",
    "dusers['Date'] = dusers.CreationDate.dt.date\n",
    "usercounts = dusers.groupby('Date').size()\n",
    "postcounts = dposts.groupby('Date').size()\n",
    "posts_users = pd.DataFrame(data={\"users\": usercounts.cumsum(),\n",
    "                                 \"posts\": postcounts},\n",
    "                           index=postcounts.index)\n",
    "\n",
    "posts_users['users30dayMA'] = posts_users['users'].rolling(window=30).mean()\n",
    "posts_users['posts30dayMA'] = posts_users['posts'].rolling(window=30).mean()\n"
   ]
  },
  {
   "cell_type": "code",
   "execution_count": null,
   "metadata": {},
   "outputs": [],
   "source": [
    "fig, ax1 = plt.subplots()\n",
    "ax1.plot(posts_users.index, posts_users['users30dayMA'], color='b', label=\"Number of Users\")\n",
    "ax1.set_xlabel('Date')\n",
    "\n",
    "# Make the y-axis label, ticks and tick labels match the line color.\n",
    "ax1.set_ylabel('Number of Users', color='b')\n",
    "ax1.tick_params('y', colors='b')\n",
    "\n",
    "ax2 = ax1.twinx()\n",
    "ax2.plot(posts_users.index, posts_users['posts30dayMA'], color='r', label=\"Posts per Day (30 day MA)\")\n",
    "ax2.set_ylabel('Posts per day', color='r')\n",
    "ax2.tick_params('y', colors='r')\n",
    "\n",
    "ax1.set(title=\"Growth of Cross Validated Over Time\")\n",
    "def update_ylabels(ax):\n",
    "    ylabels = [format(label, ',.0f') for label in ax.get_yticks()]\n",
    "    ax.set_yticklabels(ylabels)\n",
    "update_ylabels(ax1)\n",
    "fig.tight_layout()"
   ]
  },
  {
   "cell_type": "markdown",
   "metadata": {},
   "source": [
    "## Graph two, number of posts vs. salary\n",
    "\n",
    "Does making things easier to learn decrease salary?"
   ]
  },
  {
   "cell_type": "code",
   "execution_count": null,
   "metadata": {},
   "outputs": [],
   "source": [
    "tags = ET.parse(\"stackoverflow/Tags.xml\")\n",
    "tags = tags.getroot()\n",
    "\n",
    "tags = pd.DataFrame.from_dict([x.attrib for x in tags])\n",
    "tags = tags.apply(pd.to_numeric, errors='ignore')\n",
    "unique_tags = tags.TagName.unique()\n",
    "\n",
    "survey2016['tags'] = survey2016.tech_do.str.lower() #.str.split(\"; *\")\n",
    "\n",
    "plotting_tags = tags.loc[tags.Count > 10000, :]\n",
    "plotting_tags.loc[:, 'avg_salary'] = np.NaN\n",
    "plotting_tags = plotting_tags.reset_index()\n",
    "\n",
    "# TODO: don't use a loop here\n",
    "# TODO: make sure to do a better job cleaning the tags before passing in\n",
    "for i in range(len(plotting_tags)):\n",
    "    tag = plotting_tags.loc[i, 'TagName']\n",
    "    regex = re.escape(tag)\n",
    "    print(tag)\n",
    "    plotting_tags.loc[i, 'avg_salary'] = survey2016.loc[survey2016.tags.str.contains(regex).fillna(False), 'salary_midpoint'].mean()\n"
   ]
  },
  {
   "cell_type": "code",
   "execution_count": null,
   "metadata": {},
   "outputs": [],
   "source": [
    "\n",
    "plt_tags = plotting_tags.loc[~plotting_tags.avg_salary.isnull()]\n",
    "fig, ax = plt.subplots()\n",
    "\n",
    "plt_tags.plot('Count', 'avg_salary', kind='scatter', ax=ax)\n",
    "\n",
    "for k, v in plt_tags.iterrows():\n",
    "    ax.annotate(plt_tags.loc[k, 'TagName'], plt_tags.loc[k, ['Count', 'avg_salary']])\n",
    "\n",
    "plt.show()\n",
    "\n",
    "# I'm not an expert at matplotlib so the graphics might be somewhat lacking\n",
    "fig, ax = plt.subplots()\n",
    "ax.scatter(plt_tags.Count, plt_tags.avg_salary)\n",
    "ax.set(xlabel='Number of Posts', ylabel='Average Salary in 2016', title=\"Stack Overflow Posts And Salary\")\n",
    "for k, v in plt_tags.iterrows():\n",
    "    ax.annotate(plt_tags.loc[k, 'TagName'], plt_tags.loc[k, ['Count', 'avg_salary']])\n"
   ]
  },
  {
   "cell_type": "markdown",
   "metadata": {},
   "source": [
    "## What the surveys contains on education already\n",
    "\n",
    "2015 and 2016 surveys collect data on developer education, including whether they are self taught."
   ]
  },
  {
   "cell_type": "code",
   "execution_count": null,
   "metadata": {},
   "outputs": [],
   "source": [
    "#Many people list more than one education type\n",
    "education = survey2016.education.str.split('; ', expand=True).stack()"
   ]
  },
  {
   "cell_type": "code",
   "execution_count": null,
   "metadata": {},
   "outputs": [],
   "source": [
    "#basic plot of education counts\n",
    "fig, ax = plt.subplots(figsize=(8,6))\n",
    "education.value_counts().plot(kind='barh', rot=0)\n",
    "plt.xlabel(\"Number of individuals\")\n",
    "plt.tight_layout()"
   ]
  },
  {
   "cell_type": "code",
   "execution_count": null,
   "metadata": {},
   "outputs": [],
   "source": [
    "#heatmap of overlap between categories\n",
    "degrees = [\"I'm self-taught\",\n",
    "           'On-the-job training',\n",
    "           'Online class (e.g. Coursera, Codecademy, Khan Academy, etc.)',\n",
    "           'Full-time, intensive program (e.g. \"boot-camp\")',\n",
    "           'Part-time program (e.g. night school)',\n",
    "           'Some college coursework in Computer Science (or related field)',\n",
    "           'B.A. in Computer Science (or related field)',\n",
    "           'B.S. in Computer Science (or related field)',\n",
    "           'Masters Degree in Computer Science (or related field)',\n",
    "           'PhD in Computer Science (or related field)']\n",
    "\n",
    "education_grid = pd.DataFrame(index=degrees, columns=degrees)\n",
    "\n",
    "# use index slice for multiindex subsets\n",
    "index_slice = pd.IndexSlice\n",
    "for ed1 in education.unique():\n",
    "    ix = education[education == ed1].index.get_level_values(0)\n",
    "    number_with_education = len(ix)\n",
    "    subset = education.loc[index_slice[ix,:]]\n",
    "    for ed2 in subset.unique():\n",
    "        # rows of the dataframe all have the same denominator: number of people with the ed.\n",
    "        education_grid.loc[ed1,ed2] = np.sum(subset == ed2)/number_with_education\n",
    "\n",
    "education_grid = education_grid.astype(float)\n",
    "plt.close()\n",
    "fig, ax = plt.subplots(figsize=(10,10))\n",
    "plt.pcolor(education_grid)\n",
    "plt.yticks(np.arange(0.5, len(education_grid.index), 1), education_grid.index)\n",
    "plt.xticks(np.arange(0.5, len(education_grid.columns), 1), education_grid.columns, rotation=45, ha='right')\n",
    "ax.set_xlabel(\"Rows define denominator\")\n",
    "fig.subplots_adjust(bottom=.5,left=0.5)\n",
    "plt.colorbar()"
   ]
  },
  {
   "cell_type": "code",
   "execution_count": null,
   "metadata": {},
   "outputs": [],
   "source": [
    "# education vs incomes\n",
    "survey2016['highest_degree'] = \"None\"\n",
    "\n",
    "for deg in degrees:\n",
    "    survey2016.loc[survey2016.education.str.match(re.escape(deg)).fillna(False), 'highest_degree'] = deg\n",
    "plt.close()\n",
    "fig, ax = plt.subplots(figsize=(8, 8))\n",
    "fig.subplots_adjust(bottom=.4, left=0.4)\n",
    "survey2016.groupby('highest_degree')['salary_midpoint'].mean()[degrees].plot(kind='bar')\n",
    "plt.xticks(np.arange(0, len(degrees), 1), degrees, rotation=30, ha='right')\n",
    "ax.set(title(\"Salary by Highest Education\")\n",
    "ax.set_xlabel(\"Highest Educational Achievement\")\n",
    "ax.set_ylabel(\"Income\")\n",
    "ax.get_yaxis().set_major_formatter(\n",
    "    matplotlib.ticker.FuncFormatter(lambda x, p: '${:,}'.format(x)))\n"
   ]
  },
  {
   "cell_type": "code",
   "execution_count": null,
   "metadata": {},
   "outputs": [],
   "source": [
    "## Geography, distribution of visitors to regular stack overflow website"
   ]
  },
  {
   "cell_type": "code",
   "execution_count": null,
   "metadata": {},
   "outputs": [],
   "source": [
    "salary = pd.concat()"
   ]
  },
  {
   "cell_type": "markdown",
   "metadata": {},
   "source": [
    "## Controlling for geography, developer salaries compared to their peers"
   ]
  },
  {
   "cell_type": "markdown",
   "metadata": {},
   "source": [
    "## A simple regression"
   ]
  }
 ],
 "metadata": {
  "kernelspec": {
   "display_name": "Python 2",
   "language": "python",
   "name": "python2"
  },
  "language_info": {
   "codemirror_mode": {
    "name": "ipython",
    "version": 2.0
   },
   "file_extension": ".py",
   "mimetype": "text/x-python",
   "name": "python",
   "nbconvert_exporter": "python",
   "pygments_lexer": "ipython2",
   "version": "2.7.6"
  }
 },
 "nbformat": 4,
 "nbformat_minor": 0
}